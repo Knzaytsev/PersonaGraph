{
 "cells": [
  {
   "cell_type": "code",
   "execution_count": 82,
   "metadata": {},
   "outputs": [],
   "source": [
    "import json\n",
    "import pandas as pd\n",
    "import random\n",
    "import os\n",
    "from sklearn.model_selection import train_test_split\n",
    "\n",
    "LABELS_PATH = '../data/persona_labels/raw/exported_labels.json'\n",
    "SAVE_LABELS_PATH = '../data/persona_labels/interim'"
   ]
  },
  {
   "cell_type": "code",
   "execution_count": 83,
   "metadata": {},
   "outputs": [],
   "source": [
    "labels = json.load(open(LABELS_PATH))"
   ]
  },
  {
   "cell_type": "code",
   "execution_count": 84,
   "metadata": {},
   "outputs": [],
   "source": [
    "labels_data = []\n",
    "for label in labels:\n",
    "    labels_data.append({'text': label['data']['text'], \n",
    "                        'labels': label['annotations'][0]['result'][0]['value']['choices']})\n",
    "labels_data = pd.DataFrame(labels_data)\n",
    "labels_data = labels_data.explode('labels')\n",
    "labels_data = labels_data.groupby('text')['labels'].apply(set).apply(list)"
   ]
  },
  {
   "cell_type": "code",
   "execution_count": 85,
   "metadata": {},
   "outputs": [],
   "source": [
    "labels_dataset = labels_data.apply(sorted).str.join('_')\n",
    "one_labels = labels_dataset.value_counts()\n",
    "one_labels = one_labels[one_labels == 1]\n",
    "one_labels = one_labels.index.tolist()\n",
    "labels_dataset = labels_dataset[~labels_dataset.isin(one_labels)]\n",
    "labels_dataset, val_labels_dataset = train_test_split(labels_dataset, test_size=0.2, stratify=labels_dataset.tolist())\n",
    "labels_dataset = labels_dataset.str.split('_')\n",
    "val_labels_dataset = val_labels_dataset.str.split('_')"
   ]
  },
  {
   "cell_type": "code",
   "execution_count": 88,
   "metadata": {},
   "outputs": [],
   "source": [
    "TRAIN_LABELS_PATH = os.path.join(SAVE_LABELS_PATH, 'train.jsonl')\n",
    "\n",
    "if os.path.exists(TRAIN_LABELS_PATH):\n",
    "    os.remove(TRAIN_LABELS_PATH)\n",
    "\n",
    "with open(TRAIN_LABELS_PATH, 'a+') as f:\n",
    "    for line in labels_dataset.reset_index().to_dict(orient='records'):\n",
    "        f.write(json.dumps(line, ensure_ascii=False) + '\\n')"
   ]
  },
  {
   "cell_type": "code",
   "execution_count": 89,
   "metadata": {},
   "outputs": [],
   "source": [
    "VALID_LABELS_PATH = os.path.join(SAVE_LABELS_PATH, 'val.jsonl')\n",
    "\n",
    "if os.path.exists(VALID_LABELS_PATH):\n",
    "    os.remove(VALID_LABELS_PATH)\n",
    "\n",
    "with open(VALID_LABELS_PATH, 'a+') as f:\n",
    "    for line in val_labels_dataset.reset_index().to_dict(orient='records'):\n",
    "        f.write(json.dumps(line, ensure_ascii=False) + '\\n')"
   ]
  },
  {
   "cell_type": "code",
   "execution_count": null,
   "metadata": {},
   "outputs": [],
   "source": [
    "labels_data = labels_data.reset_index()\n",
    "labels_data = labels_data.explode('labels')\n",
    "labels_data"
   ]
  },
  {
   "cell_type": "code",
   "execution_count": 147,
   "metadata": {},
   "outputs": [
    {
     "data": {
      "text/plain": [
       "18954"
      ]
     },
     "execution_count": 147,
     "metadata": {},
     "output_type": "execute_result"
    }
   ],
   "source": [
    "def get_stats(df):\n",
    "    cnt = df['labels'].value_counts()\n",
    "    distr = cnt / cnt.sum()\n",
    "    distr = 1 - distr\n",
    "    return distr.to_dict()\n",
    "\n",
    "def get_samples(x, df=None, n_samples=10000):\n",
    "    labels = x.unique()\n",
    "    filtered_df = df[~df['labels'].isin(labels)]\n",
    "    distr = get_stats(filtered_df)\n",
    "    weights = filtered_df['labels'].map(distr)\n",
    "    weights = weights / weights.sum()\n",
    "    samples = []\n",
    "    for label in labels:\n",
    "        # indicies = random.choices(filtered_df.index, weights.tolist(), k=n_samples)\n",
    "        # negative_samples = filtered_df.loc[indicies]\n",
    "        negative_samples = filtered_df.copy()\n",
    "        negative_samples['labels'] = label\n",
    "        negative_samples['target'] = 0\n",
    "        negative_samples = negative_samples.to_dict(orient='records')\n",
    "        samples += negative_samples\n",
    "    positive_samples = pd.DataFrame({'text': [x.name]*len(labels), 'labels': labels, 'target': 1})\n",
    "    positive_samples = positive_samples.to_dict(orient='records')\n",
    "    samples += positive_samples\n",
    "    return samples\n",
    "\n",
    "samples = labels_data.groupby('text')['labels'].apply(lambda x: get_samples(x, labels_data)).tolist()\n",
    "samples = [sample for samples in samples for sample in samples]\n",
    "samples = pd.DataFrame(samples)\n",
    "samples = samples.drop_duplicates(['text', 'labels', 'target'])\n",
    "samples = samples.to_dict(orient='records')\n",
    "len(samples)"
   ]
  },
  {
   "cell_type": "code",
   "execution_count": 148,
   "metadata": {},
   "outputs": [
    {
     "data": {
      "text/html": [
       "<div>\n",
       "<style scoped>\n",
       "    .dataframe tbody tr th:only-of-type {\n",
       "        vertical-align: middle;\n",
       "    }\n",
       "\n",
       "    .dataframe tbody tr th {\n",
       "        vertical-align: top;\n",
       "    }\n",
       "\n",
       "    .dataframe thead th {\n",
       "        text-align: right;\n",
       "    }\n",
       "</style>\n",
       "<table border=\"1\" class=\"dataframe\">\n",
       "  <thead>\n",
       "    <tr style=\"text-align: right;\">\n",
       "      <th></th>\n",
       "      <th>text</th>\n",
       "      <th>labels</th>\n",
       "    </tr>\n",
       "  </thead>\n",
       "  <tbody>\n",
       "    <tr>\n",
       "      <th>1907</th>\n",
       "      <td>I play football.</td>\n",
       "      <td>Routines or Habits</td>\n",
       "    </tr>\n",
       "  </tbody>\n",
       "</table>\n",
       "</div>"
      ],
      "text/plain": [
       "                  text              labels\n",
       "1907  I play football.  Routines or Habits"
      ]
     },
     "execution_count": 148,
     "metadata": {},
     "output_type": "execute_result"
    }
   ],
   "source": [
    "labels_data[labels_data['text'] == \"I play football.\"]"
   ]
  },
  {
   "cell_type": "code",
   "execution_count": 149,
   "metadata": {},
   "outputs": [
    {
     "data": {
      "text/plain": [
       "labels\n",
       "Characteristics       3276\n",
       "Experiences           3231\n",
       "Routines or Habits    3203\n",
       "Relationship          3167\n",
       "Goals or Plans        3054\n",
       "None                  3023\n",
       "Name: count, dtype: int64"
      ]
     },
     "execution_count": 149,
     "metadata": {},
     "output_type": "execute_result"
    }
   ],
   "source": [
    "pd.DataFrame(samples)['labels'].value_counts()"
   ]
  },
  {
   "cell_type": "code",
   "execution_count": 150,
   "metadata": {},
   "outputs": [],
   "source": [
    "if os.path.exists(SAVE_LABELS_PATH):\n",
    "    os.remove(SAVE_LABELS_PATH)\n",
    "\n",
    "with open(SAVE_LABELS_PATH, 'a+') as f:\n",
    "    for line in samples:\n",
    "        f.write(json.dumps(line, ensure_ascii=False) + '\\n')"
   ]
  }
 ],
 "metadata": {
  "kernelspec": {
   "display_name": "base",
   "language": "python",
   "name": "python3"
  },
  "language_info": {
   "codemirror_mode": {
    "name": "ipython",
    "version": 3
   },
   "file_extension": ".py",
   "mimetype": "text/x-python",
   "name": "python",
   "nbconvert_exporter": "python",
   "pygments_lexer": "ipython3",
   "version": "3.11.5"
  },
  "orig_nbformat": 4,
  "vscode": {
   "interpreter": {
    "hash": "ce52b8cd2c42298f9a78b6748f486b121b7df6399a0725c2f518341b934a7a89"
   }
  }
 },
 "nbformat": 4,
 "nbformat_minor": 2
}
