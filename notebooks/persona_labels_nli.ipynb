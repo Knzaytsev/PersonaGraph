{
 "cells": [
  {
   "cell_type": "code",
   "execution_count": 2,
   "metadata": {},
   "outputs": [],
   "source": [
    "import json\n",
    "import pandas as pd\n",
    "import random\n",
    "import os\n",
    "from sklearn.model_selection import train_test_split\n",
    "\n",
    "TRAIN_LABELS_PATH = '../data/persona_labels/interim/train.jsonl'\n",
    "VALID_LABELS_PATH = '../data/persona_labels/interim/val.jsonl'"
   ]
  },
  {
   "cell_type": "code",
   "execution_count": 3,
   "metadata": {},
   "outputs": [],
   "source": [
    "train = [json.loads(line) for line in open(TRAIN_LABELS_PATH).readlines()]\n",
    "valid = [json.loads(line) for line in open(VALID_LABELS_PATH).readlines()]"
   ]
  },
  {
   "cell_type": "code",
   "execution_count": 8,
   "metadata": {},
   "outputs": [],
   "source": [
    "train = pd.DataFrame(train)\n",
    "valid = pd.DataFrame(valid)\n",
    "\n",
    "train = train.explode('labels')\n",
    "valid = valid.explode('labels')"
   ]
  },
  {
   "cell_type": "code",
   "execution_count": 9,
   "metadata": {},
   "outputs": [
    {
     "data": {
      "text/plain": [
       "15148"
      ]
     },
     "execution_count": 9,
     "metadata": {},
     "output_type": "execute_result"
    }
   ],
   "source": [
    "def get_stats(df):\n",
    "    cnt = df['labels'].value_counts()\n",
    "    distr = cnt / cnt.sum()\n",
    "    distr = 1 - distr\n",
    "    return distr.to_dict()\n",
    "\n",
    "def get_samples(x, df=None, n_samples=10000):\n",
    "    labels = x.unique()\n",
    "    filtered_df = df[~df['labels'].isin(labels)]\n",
    "    distr = get_stats(filtered_df)\n",
    "    weights = filtered_df['labels'].map(distr)\n",
    "    weights = weights / weights.sum()\n",
    "    samples = []\n",
    "    for label in labels:\n",
    "        # indicies = random.choices(filtered_df.index, weights.tolist(), k=n_samples)\n",
    "        # negative_samples = filtered_df.loc[indicies]\n",
    "        negative_samples = filtered_df.copy()\n",
    "        negative_samples['labels'] = label\n",
    "        negative_samples['target'] = 0\n",
    "        negative_samples = negative_samples.to_dict(orient='records')\n",
    "        samples += negative_samples\n",
    "    positive_samples = pd.DataFrame({'text': [x.name]*len(labels), 'labels': labels, 'target': 1})\n",
    "    positive_samples = positive_samples.to_dict(orient='records')\n",
    "    samples += positive_samples\n",
    "    return samples\n",
    "\n",
    "samples = train.groupby('text')['labels'].apply(lambda x: get_samples(x, train)).tolist()\n",
    "samples = [sample for samples in samples for sample in samples]\n",
    "samples = pd.DataFrame(samples)\n",
    "samples = samples.drop_duplicates(['text', 'labels', 'target'])\n",
    "samples = samples.to_dict(orient='records')\n",
    "len(samples)"
   ]
  },
  {
   "cell_type": "code",
   "execution_count": 10,
   "metadata": {},
   "outputs": [],
   "source": [
    "valid['target'] = 1\n",
    "valid_samples = valid.to_dict(orient='records')"
   ]
  },
  {
   "cell_type": "code",
   "execution_count": 13,
   "metadata": {},
   "outputs": [
    {
     "data": {
      "text/plain": [
       "labels\n",
       "Characteristics       2619\n",
       "Experiences           2583\n",
       "Routines or Habits    2559\n",
       "Relationship          2531\n",
       "Goals or Plans        2440\n",
       "None                  2416\n",
       "Name: count, dtype: int64"
      ]
     },
     "execution_count": 13,
     "metadata": {},
     "output_type": "execute_result"
    }
   ],
   "source": [
    "pd.DataFrame(samples)['labels'].value_counts()"
   ]
  },
  {
   "cell_type": "code",
   "execution_count": 16,
   "metadata": {},
   "outputs": [
    {
     "data": {
      "text/plain": [
       "labels\n",
       "Experiences           263\n",
       "Characteristics       218\n",
       "Routines or Habits     87\n",
       "Goals or Plans         76\n",
       "Relationship           32\n",
       "None                    9\n",
       "Name: count, dtype: int64"
      ]
     },
     "execution_count": 16,
     "metadata": {},
     "output_type": "execute_result"
    }
   ],
   "source": [
    "pd.DataFrame(valid_samples)['labels'].value_counts()"
   ]
  },
  {
   "cell_type": "code",
   "execution_count": 18,
   "metadata": {},
   "outputs": [],
   "source": [
    "NLI_TRAIN_SAVE_PATH = '../data/persona_labels/interim/nli_train.jsonl'\n",
    "NLI_VALID_SAVE_PATH = '../data/persona_labels/interim/nli_val.jsonl'\n",
    "\n",
    "if os.path.exists(NLI_TRAIN_SAVE_PATH):\n",
    "    os.remove(NLI_TRAIN_SAVE_PATH)\n",
    "\n",
    "with open(NLI_TRAIN_SAVE_PATH, 'a+') as f:\n",
    "    for line in samples:\n",
    "        f.write(json.dumps(line, ensure_ascii=False) + '\\n')\n",
    "\n",
    "if os.path.exists(NLI_VALID_SAVE_PATH):\n",
    "    os.remove(NLI_VALID_SAVE_PATH)\n",
    "\n",
    "with open(NLI_VALID_SAVE_PATH, 'a+') as f:\n",
    "    for line in valid_samples:\n",
    "        f.write(json.dumps(line, ensure_ascii=False) + '\\n')"
   ]
  },
  {
   "cell_type": "code",
   "execution_count": null,
   "metadata": {},
   "outputs": [],
   "source": []
  }
 ],
 "metadata": {
  "kernelspec": {
   "display_name": "base",
   "language": "python",
   "name": "python3"
  },
  "language_info": {
   "codemirror_mode": {
    "name": "ipython",
    "version": 3
   },
   "file_extension": ".py",
   "mimetype": "text/x-python",
   "name": "python",
   "nbconvert_exporter": "python",
   "pygments_lexer": "ipython3",
   "version": "3.11.5 (main, Sep 11 2023, 08:31:25) [Clang 14.0.6 ]"
  },
  "orig_nbformat": 4,
  "vscode": {
   "interpreter": {
    "hash": "ce52b8cd2c42298f9a78b6748f486b121b7df6399a0725c2f518341b934a7a89"
   }
  }
 },
 "nbformat": 4,
 "nbformat_minor": 2
}
